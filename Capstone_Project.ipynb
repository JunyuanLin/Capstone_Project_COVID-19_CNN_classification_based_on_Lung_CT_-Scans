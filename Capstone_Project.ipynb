{
 "cells": [
  {
   "cell_type": "markdown",
   "metadata": {},
   "source": [
    "<img src=\"http://imgur.com/1ZcRyrc.png\" style=\"float: left; margin: 20px; height: 85px\">\n",
    "\n",
    "# Capstone Project \n",
    "\n",
    "# COVID-19 classification based on Chest CT Scan\n",
    "\n",
    "by: Lin Junyuan DSI-14"
   ]
  },
  {
   "cell_type": "markdown",
   "metadata": {},
   "source": [
    "## Problem Statement"
   ]
  },
  {
   "cell_type": "markdown",
   "metadata": {},
   "source": [
    "To develop a Convolutional Neural Network-based classification model, based on Chest CT Scan data in the axial view, to determine whether COVID-19 infection is present, with a targeted performance of 80% for both accuracy and sensitivity."
   ]
  },
  {
   "cell_type": "markdown",
   "metadata": {},
   "source": [
    "## Executive Summary"
   ]
  },
  {
   "cell_type": "markdown",
   "metadata": {},
   "source": [
    "The novel coronavirus 2019 (COVID-2019) was first detected in Wuhan, China during the end of December 2019. Rapidly, it spread throughout the world and was classified as a pandemic within months. It was highly disruptive, driving cities and states into lockdowns in a bid to contain its spread. The global economy, lives and livelihoods of millions were adversely affected.\n",
    "\n",
    "During the early phases, early detection and containment were proven to be highly effective counter-measures. However, being a novel coronavirus, test kits were not readily available. Detection was key and many countries around the world prioritise testing and were actively building up their capabilities in this respect.\n",
    "\n",
    "Radiological imaging techniques, such as chest CT scans has been found to contain discernable effects of a COVID-19 infection. In these scans, Ground Glass opacities (GGOs) show up in infected patients' scans and expands as the disease's severity increases. Hence, this project proposes to apply Artificial Intelligence (AI) techniques, namely convolutional neural network (CNN) to detect COVID-19. If successful, this technology can be applied to serve as an auxiliary diagnostic tool, or further expanded to trace and track disease severity.\n",
    "\n",
    "Based on the amount of data available (May 2020), our [model](#Selected-Model) was able to attain an accuracy of 0.83, a sensitivity of 0.95 and AUC ROC score of 0.87."
   ]
  },
  {
   "cell_type": "markdown",
   "metadata": {},
   "source": [
    "## Sections"
   ]
  },
  {
   "cell_type": "markdown",
   "metadata": {},
   "source": [
    "- [Import libraries](#Import-libraries)\n",
    "- [Dataset source information](#Dataset-source-information)\n",
    "- [Dataset summary](#Dataset-summary)\n",
    "- [Pre-processing](#Pre-processing)\n",
    "- [Load metadata](#Load-metadata)\n",
    "- [Data preparation](#Data-preparation)\n",
    "    - [Train-test-split](#Train-test-split)\n",
    "    - [Augment non-Covid data in df_train](#Augment-non-Covid-data-in-df_train)\n",
    "    - [Augment non-Covid data in df_test](#Augment-non-Covid-data-in-df_test)\n",
    "- [Modelling](#Modelling)\n",
    "    - [Fine tuning](#Fine-tuning)\n",
    "    - [Model Evaluation and Selection](#Model-Evaluation-and-Selection)\n",
    "- [Selected Model](#Selected-Model)\n",
    "- [Conclusion and Recommendations](#Conclusion-and-Recommendations)\n",
    "- [References](#References)"
   ]
  },
  {
   "cell_type": "markdown",
   "metadata": {},
   "source": [
    "### Import libraries"
   ]
  },
  {
   "cell_type": "code",
   "execution_count": 107,
   "metadata": {},
   "outputs": [],
   "source": [
    "import numpy as np\n",
    "import pandas as pd\n",
    "import matplotlib.pyplot as plt\n",
    "\n",
    "import cv2 as cv\n",
    "import os\n",
    "import datetime\n",
    "\n",
    "from sklearn.model_selection import GroupShuffleSplit\n",
    "from sklearn.metrics import confusion_matrix, roc_auc_score\n",
    "\n",
    "import tensorflow as tf\n",
    "from tensorflow.keras.models import Sequential, Model\n",
    "from tensorflow.keras.layers import Dense, Dropout, Activation, Flatten\n",
    "from tensorflow.keras.layers import Conv2D, MaxPooling2D, GlobalAveragePooling2D, GlobalMaxPooling2D\n",
    "from tensorflow.keras.initializers import Constant\n",
    "from tensorflow.keras import utils\n",
    "from tensorflow.keras.preprocessing.image import ImageDataGenerator\n",
    "from tensorflow.keras.callbacks import ModelCheckpoint, Callback, EarlyStopping\n",
    "\n",
    "%matplotlib inline"
   ]
  },
  {
   "cell_type": "code",
   "execution_count": 2,
   "metadata": {},
   "outputs": [],
   "source": [
    "%load_ext tensorboard"
   ]
  },
  {
   "cell_type": "code",
   "execution_count": 3,
   "metadata": {},
   "outputs": [
    {
     "name": "stdout",
     "output_type": "stream",
     "text": [
      "Num GPUs Available:  1\n"
     ]
    }
   ],
   "source": [
    "print(\"Num GPUs Available: \", len(tf.config.experimental.list_physical_devices('GPU')))"
   ]
  },
  {
   "cell_type": "markdown",
   "metadata": {},
   "source": [
    "## Dataset source information"
   ]
  },
  {
   "cell_type": "markdown",
   "metadata": {},
   "source": [
    "Source 1: `Kaggle\\COVID-19 CT scans` [Link](https://www.kaggle.com/andrewmvd/covid19-ct-scans)\n",
    "- 20 sets of images in `.nii` file format \n",
    "- 20 patients who are diagnosed as COVID-19 positive\n",
    "- 6 `.jpg` images from each `.nii` file\n",
    "- Total: 120 COVID-19 positive images\n",
    "\n",
    "Source 2: `GitHub\\UCSD-AI4H\\COVID-CT` [Link](https://github.com/UCSD-AI4H/COVID-CT)\n",
    "- 346 images in `.png` file format of COVID-19 positive scans\n",
    "- 216 patients who are diagnosed as COVID-19 positive\n",
    "- 397 images in `.jpg`, `.png` file formats of COVID-19 negative scans\n",
    "- 171 patients who are diagnosed as COVID-19 negative\n",
    "\n",
    "Source 3: `GitHub\\ieee8023\\covid-chestxray-dataset` [Link](https://github.com/ieee8023/covid-chestxray-dataset)\n",
    "- 43 images in `.jpeg`, `.jpg`, `.png` file format of COVID-19 positive scans\n",
    "- 23 patients who are diagnosed as COVID-19 positive\n",
    "- 4 images in `.jpeg`, `.jpg` file format of COVID-19 negative scans\n",
    "- 3 patients who are diagnosed as COVID-19 negative\n",
    "\n",
    "Source 4: `Toy Dataset synthesized from actual patient scans from Covid19Challenge.eu` [Link](https://www.covid19challenge.eu/covid-19-toy-datasets-released/)\n",
    "- 96 sets of images in `.nii` file format \n",
    "- 6 `.jpg` images from each `.nii` file\n",
    "- Total: 576 COVID-19 positive images\n",
    "\n",
    "Source 5: `Scraped CT images from Radiopaedia.org` [Link](https://radiopaedia.org/)\n",
    "- 72 images in `.jpeg`, `.jpg` file format of COVID-19 negative scans\n",
    "- 12 patients who are diagnosed as COVID-19 negative\n",
    "\n",
    "Source 6: `MosMedData: COVID19_1000 Dataset` [Link](https://mosmed.ai/en/)\n",
    "- 254 sets of images in `.nii` file format\n",
    "- 254 patients who are diagnosed as COVID-19 positive\n",
    "- 6 `.jpg` images from each `.nii` file\n",
    "- Total: 1524 COVID-19 negative images\n",
    "- 856 sets of images in `.nii` file format \n",
    "- 856 patients who are diagnosed as COVID-19 positive\n",
    "- 6 `.jpg` images from each `.nii` file\n",
    "- Total: 5076 COVID-19 positive images"
   ]
  },
  {
   "cell_type": "markdown",
   "metadata": {},
   "source": [
    "### Dataset summary"
   ]
  },
  {
   "cell_type": "code",
   "execution_count": 6,
   "metadata": {},
   "outputs": [
    {
     "name": "stdout",
     "output_type": "stream",
     "text": [
      "Number of Covid positive images: 6221\n",
      "Number of Covid negative images: 1997\n",
      "=========================================\n",
      "Total number of images: 8218\n",
      "=========================================\n",
      "Number of Covid positive patients: 1211\n",
      "Number of Covid negative patients: 440\n",
      "=========================================\n",
      "Total number of patients: 1651\n",
      "=========================================\n"
     ]
    }
   ],
   "source": [
    "num_covid_imgs = (20*6)+346+43+(96*6)+(856*6)\n",
    "print(f\"Number of Covid positive images: {num_covid_imgs}\")\n",
    "\n",
    "num_noncovid_imgs = 397+4+72+(254*6)\n",
    "print(f\"Number of Covid negative images: {num_noncovid_imgs}\")\n",
    "\n",
    "print('=========================================')\n",
    "num_imgs_total = num_covid_imgs + num_noncovid_imgs\n",
    "print(f\"Total number of images: {num_imgs_total}\")\n",
    "print('=========================================')\n",
    "num_covid_patients = 20 + 216 + 23 + 96 + 856\n",
    "print(f\"Number of Covid positive patients: {num_covid_patients}\")\n",
    "\n",
    "num_noncovid_patients = 171 + 3 + 12 + 254\n",
    "print(f\"Number of Covid negative patients: {num_noncovid_patients}\")\n",
    "print('=========================================')\n",
    "num_patients_total = num_covid_patients + num_noncovid_patients\n",
    "print(f\"Total number of patients: {num_patients_total}\")\n",
    "print('=========================================')"
   ]
  },
  {
   "cell_type": "markdown",
   "metadata": {},
   "source": [
    "## Pre-processing"
   ]
  },
  {
   "cell_type": "markdown",
   "metadata": {},
   "source": [
    "As the data comes in a variety of formats and resolutions, the preprocessing was performed in a seperate `preprocessing.py` file located in the `code` folder. The preprocessing workflow can generally be described in the following steps:\n",
    "\n",
    "1. Load image from `source` folder\n",
    "    - If source file is a `.nii` 3D image file, 6 slices will be retrieved from each file\n",
    "2. Perform median blurring to remove noise\n",
    "    <img src=\"./assets/median.jpg\" alt=\"median denoising\" width=\"128\" height=\"128\" float=\"left\">\n",
    "3. Perform adaptive histogram equalization\n",
    "    <img src=\"./assets/img_cl.jpg\" alt=\"CLAHE\" width=\"128\" height=\"128\">\n",
    "4. Apply thresholding to get binary image\n",
    "    <img src=\"./assets/thresh.jpg\" alt=\"threshold\" width=\"128\" height=\"128\">\n",
    "5. Eliminate background\n",
    "    <img src=\"./assets/thresh2.jpg\" alt=\"background removed\" width=\"128\" height=\"128\">\n",
    "6. Perform dilation\n",
    "7. Perform contour detection to mark out the lung area\n",
    "    <img src=\"./assets/contours.jpg\" alt=\"contours\" width=\"128\" height=\"128\">\n",
    "8. Use contours to mark out a rectangular region around the lungs\n",
    "    <img src=\"./assets/bounding_region.jpg\" alt=\"bounding region\" width=\"128\" height=\"128\">\n",
    "9. Crop image based on rectangular region\n",
    "10. Resize cropped image into desired dimensions (224, 280)\n",
    "11. Save preprocessed image into `data` folder\n",
    "\n",
    "A `metadata.csv` file recording each preprocessed image's filename, filepath, patientID (Retrieved or generated) and if the image is Covid positive or negative."
   ]
  },
  {
   "cell_type": "markdown",
   "metadata": {},
   "source": [
    "## Load metadata"
   ]
  },
  {
   "cell_type": "code",
   "execution_count": 7,
   "metadata": {},
   "outputs": [],
   "source": [
    "metadata = pd.read_csv('./metadata.csv')"
   ]
  },
  {
   "cell_type": "code",
   "execution_count": 8,
   "metadata": {},
   "outputs": [
    {
     "data": {
      "text/html": [
       "<div>\n",
       "<style scoped>\n",
       "    .dataframe tbody tr th:only-of-type {\n",
       "        vertical-align: middle;\n",
       "    }\n",
       "\n",
       "    .dataframe tbody tr th {\n",
       "        vertical-align: top;\n",
       "    }\n",
       "\n",
       "    .dataframe thead th {\n",
       "        text-align: right;\n",
       "    }\n",
       "</style>\n",
       "<table border=\"1\" class=\"dataframe\">\n",
       "  <thead>\n",
       "    <tr style=\"text-align: right;\">\n",
       "      <th></th>\n",
       "      <th>filename</th>\n",
       "      <th>patientID</th>\n",
       "      <th>isCovid</th>\n",
       "      <th>filepath</th>\n",
       "    </tr>\n",
       "  </thead>\n",
       "  <tbody>\n",
       "    <tr>\n",
       "      <th>0</th>\n",
       "      <td>S1_coronacases_org_001_1.jpg</td>\n",
       "      <td>S1_1</td>\n",
       "      <td>1</td>\n",
       "      <td>.\\data\\CT_Covid\\S1_coronacases_org_001_1.jpg</td>\n",
       "    </tr>\n",
       "    <tr>\n",
       "      <th>1</th>\n",
       "      <td>S1_coronacases_org_001_2.jpg</td>\n",
       "      <td>S1_1</td>\n",
       "      <td>1</td>\n",
       "      <td>.\\data\\CT_Covid\\S1_coronacases_org_001_2.jpg</td>\n",
       "    </tr>\n",
       "    <tr>\n",
       "      <th>2</th>\n",
       "      <td>S1_coronacases_org_001_3.jpg</td>\n",
       "      <td>S1_1</td>\n",
       "      <td>1</td>\n",
       "      <td>.\\data\\CT_Covid\\S1_coronacases_org_001_3.jpg</td>\n",
       "    </tr>\n",
       "    <tr>\n",
       "      <th>3</th>\n",
       "      <td>S1_coronacases_org_001_4.jpg</td>\n",
       "      <td>S1_1</td>\n",
       "      <td>1</td>\n",
       "      <td>.\\data\\CT_Covid\\S1_coronacases_org_001_4.jpg</td>\n",
       "    </tr>\n",
       "    <tr>\n",
       "      <th>4</th>\n",
       "      <td>S1_coronacases_org_001_5.jpg</td>\n",
       "      <td>S1_1</td>\n",
       "      <td>1</td>\n",
       "      <td>.\\data\\CT_Covid\\S1_coronacases_org_001_5.jpg</td>\n",
       "    </tr>\n",
       "  </tbody>\n",
       "</table>\n",
       "</div>"
      ],
      "text/plain": [
       "                       filename patientID  isCovid  \\\n",
       "0  S1_coronacases_org_001_1.jpg      S1_1        1   \n",
       "1  S1_coronacases_org_001_2.jpg      S1_1        1   \n",
       "2  S1_coronacases_org_001_3.jpg      S1_1        1   \n",
       "3  S1_coronacases_org_001_4.jpg      S1_1        1   \n",
       "4  S1_coronacases_org_001_5.jpg      S1_1        1   \n",
       "\n",
       "                                       filepath  \n",
       "0  .\\data\\CT_Covid\\S1_coronacases_org_001_1.jpg  \n",
       "1  .\\data\\CT_Covid\\S1_coronacases_org_001_2.jpg  \n",
       "2  .\\data\\CT_Covid\\S1_coronacases_org_001_3.jpg  \n",
       "3  .\\data\\CT_Covid\\S1_coronacases_org_001_4.jpg  \n",
       "4  .\\data\\CT_Covid\\S1_coronacases_org_001_5.jpg  "
      ]
     },
     "execution_count": 8,
     "metadata": {},
     "output_type": "execute_result"
    }
   ],
   "source": [
    "metadata.head()"
   ]
  },
  {
   "cell_type": "code",
   "execution_count": 9,
   "metadata": {},
   "outputs": [
    {
     "data": {
      "text/plain": [
       "1    6221\n",
       "0    1997\n",
       "Name: isCovid, dtype: int64"
      ]
     },
     "execution_count": 9,
     "metadata": {},
     "output_type": "execute_result"
    }
   ],
   "source": [
    "metadata['isCovid'].value_counts()"
   ]
  },
  {
   "cell_type": "code",
   "execution_count": 10,
   "metadata": {},
   "outputs": [
    {
     "data": {
      "text/plain": [
       "1    0.756997\n",
       "0    0.243003\n",
       "Name: isCovid, dtype: float64"
      ]
     },
     "execution_count": 10,
     "metadata": {},
     "output_type": "execute_result"
    }
   ],
   "source": [
    "metadata['isCovid'].value_counts(normalize=True)"
   ]
  },
  {
   "cell_type": "code",
   "execution_count": 11,
   "metadata": {},
   "outputs": [
    {
     "data": {
      "image/png": "[encoded data removed]",
      "text/plain": [
       "<Figure size 1152x576 with 1 Axes>"
      ]
     },
     "metadata": {
      "needs_background": "light"
     },
     "output_type": "display_data"
    }
   ],
   "source": [
    "plt.figure(figsize=(16,8))\n",
    "ax = metadata['isCovid'].value_counts().plot(kind='barh', color = 'dodgerblue')\n",
    "plt.xlabel('Number of images',fontsize=18)\n",
    "plt.xlim((0,7000))\n",
    "plt.ylabel('isCovid',fontsize=18)\n",
    "plt.title('Distribution of images',fontsize=24);\n",
    "\n",
    "totals = []\n",
    "for i in ax.patches:\n",
    "    totals.append(i.get_width())\n",
    "\n",
    "total = sum(totals)\n",
    "for i in ax.patches:\n",
    "    # get_width pulls left or right; get_y pushes up or down\n",
    "    ax.text(i.get_width()+.1, i.get_y()+.24, \\\n",
    "            str(round((i.get_width()/total)*100, 2))+'%', fontsize=18,\n",
    "color='dimgrey')"
   ]
  },
  {
   "cell_type": "markdown",
   "metadata": {},
   "source": [
    "**Comment**\n",
    "\n",
    "There is data imbalance with 3 times as much Covid positive data as non-Covid data. Augmentation needs to be performed on the non-Covid data to balance out the distribution.\n",
    "\n",
    "However, prior to that, consideration must be given to the fact that there are multiple images from the same patient. These images are likely to be highly correlated to each other. Therefore, in order to prevent data leakage, the `patientID` column will be considered when performing train-test-split.\n",
    "\n",
    "Data augmentation will be performed after the split so that augmented data will not cause data leakage."
   ]
  },
  {
   "cell_type": "markdown",
   "metadata": {},
   "source": [
    "## Data preparation"
   ]
  },
  {
   "cell_type": "markdown",
   "metadata": {},
   "source": [
    "## Train-test-split"
   ]
  },
  {
   "cell_type": "code",
   "execution_count": 12,
   "metadata": {},
   "outputs": [],
   "source": [
    "train_inds, test_inds = next(GroupShuffleSplit(test_size=.20, n_splits=2).split(metadata, groups=metadata['patientID']))"
   ]
  },
  {
   "cell_type": "code",
   "execution_count": 13,
   "metadata": {},
   "outputs": [],
   "source": [
    "df_train = metadata.iloc[train_inds]\n",
    "df_test = metadata.iloc[test_inds]"
   ]
  },
  {
   "cell_type": "code",
   "execution_count": 14,
   "metadata": {},
   "outputs": [
    {
     "data": {
      "text/plain": [
       "1    0.758942\n",
       "0    0.241058\n",
       "Name: isCovid, dtype: float64"
      ]
     },
     "execution_count": 14,
     "metadata": {},
     "output_type": "execute_result"
    }
   ],
   "source": [
    "df_train['isCovid'].value_counts(normalize=True)"
   ]
  },
  {
   "cell_type": "code",
   "execution_count": 15,
   "metadata": {},
   "outputs": [
    {
     "data": {
      "text/plain": [
       "1    0.749403\n",
       "0    0.250597\n",
       "Name: isCovid, dtype: float64"
      ]
     },
     "execution_count": 15,
     "metadata": {},
     "output_type": "execute_result"
    }
   ],
   "source": [
    "df_test['isCovid'].value_counts(normalize=True)"
   ]
  },
  {
   "cell_type": "markdown",
   "metadata": {},
   "source": [
    "### Augment non-Covid data in df_train"
   ]
  },
  {
   "cell_type": "code",
   "execution_count": 16,
   "metadata": {},
   "outputs": [],
   "source": [
    "# Create ImageDataGenerator and define parameters\n",
    "img_datagen = ImageDataGenerator(width_shift_range=0.05,\n",
    "                                 height_shift_range=0.05,\n",
    "                                 horizontal_flip=True,\n",
    "                                 fill_mode='nearest',\n",
    "                                 brightness_range=[0.8,1.2])"
   ]
  },
  {
   "cell_type": "code",
   "execution_count": 17,
   "metadata": {},
   "outputs": [
    {
     "name": "stdout",
     "output_type": "stream",
     "text": [
      "Found 1577 validated image filenames.\n"
     ]
    }
   ],
   "source": [
    "# Create randomly generated images for train\n",
    "train_image_gen = img_datagen.flow_from_dataframe(dataframe= df_train[df_train['isCovid']==0],\n",
    "                                                  directory= '.',\n",
    "                                                  x_col= 'filepath',\n",
    "                                                  y_col= 'isCovid',\n",
    "                                                  class_mode= 'raw',\n",
    "                                                  color_mode='grayscale',\n",
    "                                                  target_size= (224,280),\n",
    "                                                  batch_size = 1,\n",
    "                                                  save_to_dir='.\\\\data\\\\CT_nonCovid\\\\aug_train',\n",
    "                                                  save_prefix='aug',\n",
    "                                                  save_format='jpeg')\n",
    "\n",
    "num_images = df_train['isCovid'].value_counts()[1] - df_train['isCovid'].value_counts()[0]"
   ]
  },
  {
   "cell_type": "code",
   "execution_count": 18,
   "metadata": {},
   "outputs": [],
   "source": [
    "on = False\n",
    "\n",
    "if on:\n",
    "    i = 0\n",
    "    for batch in train_image_gen:\n",
    "        i+=1\n",
    "        if i == num_images:\n",
    "            break"
   ]
  },
  {
   "cell_type": "code",
   "execution_count": 19,
   "metadata": {},
   "outputs": [],
   "source": [
    "# Generate dataframe of newly created images and add to df_train\n",
    "aug_train_patient_list = []\n",
    "aug_train_filenames = []\n",
    "aug_train_filepaths = []\n",
    "aug_train_isCovid = []\n",
    "\n",
    "for root, _, files in os.walk('.\\\\data\\\\CT_nonCovid\\\\aug_train'):\n",
    "    for file in files:\n",
    "        aug_train_filenames.append(file)\n",
    "        aug_train_filepaths.append(os.path.join(root,file))\n",
    "        aug_train_patient_list.append('aug_train')\n",
    "        aug_train_isCovid.append(0)\n",
    "        \n",
    "df_aug_train = pd.DataFrame({'filename': aug_train_filenames, \n",
    "                             'patientID': aug_train_patient_list,\n",
    "                             'isCovid': aug_train_isCovid, \n",
    "                             'filepath': aug_train_filepaths})\n",
    "\n",
    "df_train_bal = pd.concat([df_train,df_aug_train])"
   ]
  },
  {
   "cell_type": "code",
   "execution_count": 20,
   "metadata": {},
   "outputs": [
    {
     "data": {
      "text/plain": [
       "1    0.503294\n",
       "0    0.496706\n",
       "Name: isCovid, dtype: float64"
      ]
     },
     "execution_count": 20,
     "metadata": {},
     "output_type": "execute_result"
    }
   ],
   "source": [
    "# Verify that data is now balanced\n",
    "df_train_bal['isCovid'].value_counts(normalize=True)"
   ]
  },
  {
   "cell_type": "markdown",
   "metadata": {},
   "source": [
    "### Augment non-Covid data in df_test"
   ]
  },
  {
   "cell_type": "code",
   "execution_count": 21,
   "metadata": {},
   "outputs": [
    {
     "name": "stdout",
     "output_type": "stream",
     "text": [
      "Found 420 validated image filenames.\n"
     ]
    }
   ],
   "source": [
    "# Create randomly generated images for test\n",
    "test_image_gen = img_datagen.flow_from_dataframe(dataframe= df_test[df_test['isCovid']==0],\n",
    "                                                  directory= '.',\n",
    "                                                  x_col= 'filepath',\n",
    "                                                  y_col= 'isCovid',\n",
    "                                                  class_mode= 'raw',\n",
    "                                                  color_mode='grayscale',\n",
    "                                                  target_size= (224,280),\n",
    "                                                  batch_size = 1,\n",
    "                                                  save_to_dir='.\\\\data\\\\CT_nonCovid\\\\aug_test',\n",
    "                                                  save_prefix='aug',\n",
    "                                                  save_format='jpeg')\n",
    "\n",
    "num_images = df_test['isCovid'].value_counts()[1] - df_test['isCovid'].value_counts()[0]"
   ]
  },
  {
   "cell_type": "code",
   "execution_count": 22,
   "metadata": {},
   "outputs": [],
   "source": [
    "on = False\n",
    "\n",
    "if on:\n",
    "    i = 0\n",
    "    for batch in test_image_gen:\n",
    "        i+=1\n",
    "        if i == num_images:\n",
    "            break"
   ]
  },
  {
   "cell_type": "code",
   "execution_count": 23,
   "metadata": {},
   "outputs": [],
   "source": [
    "# Generate dataframe of newly created images and add to df_test\n",
    "aug_test_patient_list = []\n",
    "aug_test_filenames = []\n",
    "aug_test_filepaths = []\n",
    "aug_test_isCovid = []\n",
    "\n",
    "for root, _, files in os.walk('.\\\\data\\\\CT_nonCovid\\\\aug_test'):\n",
    "    for file in files:\n",
    "        aug_test_filenames.append(file)\n",
    "        aug_test_filepaths.append(os.path.join(root,file))\n",
    "        aug_test_patient_list.append('aug_test')\n",
    "        aug_test_isCovid.append(0)\n",
    "        \n",
    "df_aug_test = pd.DataFrame({'filename': aug_test_filenames, \n",
    "                             'patientID': aug_test_patient_list,\n",
    "                             'isCovid': aug_test_isCovid, \n",
    "                             'filepath': aug_test_filepaths})\n",
    "\n",
    "df_test_bal = pd.concat([df_test,df_aug_test])"
   ]
  },
  {
   "cell_type": "code",
   "execution_count": 24,
   "metadata": {},
   "outputs": [
    {
     "data": {
      "text/plain": [
       "0    0.512612\n",
       "1    0.487388\n",
       "Name: isCovid, dtype: float64"
      ]
     },
     "execution_count": 24,
     "metadata": {},
     "output_type": "execute_result"
    }
   ],
   "source": [
    "# Verify that data is now balanced\n",
    "df_test_bal['isCovid'].value_counts(normalize=True)"
   ]
  },
  {
   "cell_type": "code",
   "execution_count": 25,
   "metadata": {},
   "outputs": [],
   "source": [
    "# Generate X_train, X_test, y_train, y_test\n",
    "train_filenames_list = df_train_bal['filepath'].tolist()\n",
    "train_labels_list = df_train_bal['isCovid'].astype('int32').tolist()\n",
    "\n",
    "test_filenames_list = df_test_bal['filepath'].tolist()\n",
    "test_labels_list = df_test_bal['isCovid'].astype('int32').tolist()\n",
    "\n",
    "X_train = np.asarray([cv.cvtColor(cv.imread(filename), cv.COLOR_BGR2GRAY) for filename in train_filenames_list])\n",
    "y_train = np.asarray(train_labels_list)\n",
    "\n",
    "X_test = np.asarray([cv.cvtColor(cv.imread(filename), cv.COLOR_BGR2GRAY) for filename in test_filenames_list])\n",
    "y_test = np.asarray(test_labels_list)"
   ]
  },
  {
   "cell_type": "code",
   "execution_count": 26,
   "metadata": {},
   "outputs": [],
   "source": [
    "# Normalise X (images)\n",
    "X_train = X_train.astype('float32') / 255\n",
    "X_test = X_test.astype('float32') / 255"
   ]
  },
  {
   "cell_type": "code",
   "execution_count": 27,
   "metadata": {},
   "outputs": [],
   "source": [
    "# Reshape X to fit model\n",
    "X_train = X_train.reshape(X_train.shape[0], X_train.shape[1], X_train.shape[2], 1)\n",
    "X_test = X_test.reshape(X_test.shape[0], X_test.shape[1], X_test.shape[2], 1)"
   ]
  },
  {
   "cell_type": "code",
   "execution_count": 28,
   "metadata": {},
   "outputs": [
    {
     "data": {
      "image/png": "[encoded data removed]",
      "text/plain": [
       "<Figure size 432x288 with 1 Axes>"
      ]
     },
     "metadata": {
      "needs_background": "light"
     },
     "output_type": "display_data"
    }
   ],
   "source": [
    "plt.imshow(X_train[0].reshape(224,280), cmap= plt.cm.gray_r);"
   ]
  },
  {
   "cell_type": "markdown",
   "metadata": {},
   "source": [
    "---"
   ]
  },
  {
   "cell_type": "markdown",
   "metadata": {},
   "source": [
    "##  Modelling"
   ]
  },
  {
   "cell_type": "code",
   "execution_count": 29,
   "metadata": {},
   "outputs": [],
   "source": [
    "def create_model(model_name, layers_list):\n",
    "    model = Sequential(name = model_name)\n",
    "    \n",
    "    for layer in layers_list:\n",
    "        if layer[0] == 'input':\n",
    "            model.add(Conv2D(filters= layer[1],\n",
    "                             kernel_size= layer[2],\n",
    "                             activation= 'relu',    \n",
    "                             input_shape= (224,280,1)\n",
    "                             ))\n",
    "        if layer[0] == 'conv':\n",
    "            model.add(Conv2D(filters= layer[1],\n",
    "                             kernel_size= layer[2],\n",
    "                             activation= 'relu'\n",
    "                            ))\n",
    "        if layer[0] == 'maxpool':\n",
    "            model.add(MaxPooling2D(pool_size=(layer[1],layer[1])))\n",
    "        if layer[0] == 'dropout':\n",
    "            model.add(Dropout(layer[1]))\n",
    "        if layer[0] == 'gblAvgPool':\n",
    "            model.add(GlobalAveragePooling2D())\n",
    "        if layer[0] == 'dense':\n",
    "            model.add(Dense(layer[1], activation='relu'))\n",
    "    \n",
    "    model.add(Dense(1, activation= 'sigmoid'))\n",
    "        \n",
    "    model.compile(loss='binary_crossentropy',\n",
    "                      optimizer='adam',\n",
    "                      metrics=['accuracy'])\n",
    "    \n",
    "    return model"
   ]
  },
  {
   "cell_type": "code",
   "execution_count": 30,
   "metadata": {},
   "outputs": [],
   "source": [
    "def run_models(models):\n",
    "    df_results = pd.DataFrame(columns=['model_name', 'true_negative', 'false_positive', 'false_negative', 'true_positive'])\n",
    "    for model_name, values in models.items():\n",
    "        model = create_model(model_name, values['layers_list'])\n",
    "    #     model.summary()\n",
    "\n",
    "        # Define callbacks\n",
    "        checkpoint = ModelCheckpoint(\"./checkpoints/{0}_{{epoch:02d}}_{{val_accuracy:.2f}}.hdf5\".format(model_name),\n",
    "                                     verbose=1, \n",
    "                                     save_best_only=True, \n",
    "                                     mode='auto')\n",
    "\n",
    "        early_stop = EarlyStopping(monitor='val_loss', min_delta=0.03, patience=3, mode='auto',verbose=1)\n",
    "\n",
    "        log_dir = \"logs/fit/\" + model_name + \"_\" + datetime.datetime.now().strftime(\"%Y%m%d-%H%M%S\")\n",
    "        tensorboard_callback = tf.keras.callbacks.TensorBoard(log_dir=log_dir, histogram_freq=1)\n",
    "\n",
    "        history = model.fit(x= X_train,\n",
    "                            y= y_train,\n",
    "                            batch_size = 32,\n",
    "                            validation_data= (X_test, y_test),\n",
    "                            epochs=values['epochs'],\n",
    "                            callbacks=[checkpoint, tensorboard_callback, early_stop],\n",
    "                            verbose=1)\n",
    "\n",
    "        preds = (model.predict(X_test) > 0.5).astype('int32')\n",
    "\n",
    "        tn, fp, fn, tp = confusion_matrix(y_test,preds).reshape(-1)\n",
    "\n",
    "        df_results.loc[len(df_results)] = [model_name, tn, fp, fn, tp]\n",
    "\n",
    "        model.save(f'./models/{model_name}.h5')\n",
    "\n",
    "        tf.keras.backend.clear_session()\n",
    "        \n",
    "        # Read results from previous session\n",
    "        df_result_save = pd.read_csv('results.csv')\n",
    "        df_result_save = pd.concat([df_result_save, df_results])\n",
    "        df_result_save.to_csv('results.csv', index=False)\n",
    "    "
   ]
  },
  {
   "cell_type": "markdown",
   "metadata": {},
   "source": [
    "---"
   ]
  },
  {
   "cell_type": "markdown",
   "metadata": {},
   "source": [
    "![Initial model](./assets/initial_model.png)"
   ]
  },
  {
   "cell_type": "markdown",
   "metadata": {},
   "source": [
    "**Comment**\n",
    "\n",
    "After a series of empirical testing, the above model is found to be performing reasonably well. Fine tuning will be done to optimise the hyperparameters."
   ]
  },
  {
   "cell_type": "markdown",
   "metadata": {},
   "source": [
    "### Fine tuning"
   ]
  },
  {
   "cell_type": "markdown",
   "metadata": {},
   "source": [
    "**Round 1**\n",
    "\n",
    "For the first round, the number of filters in each layer will be varied.\n",
    "    - Model1_1: same as initial model\n",
    "    - Model1_2: halve the number of filters\n",
    "    - Model1_3: double the number of filters"
   ]
  },
  {
   "cell_type": "code",
   "execution_count": 31,
   "metadata": {},
   "outputs": [],
   "source": [
    "models1 = {'model1_1': {'layers_list' : [['input', 32, 3],\n",
    "                                        ['conv', 64, 3],\n",
    "                                        ['maxpool', 2],\n",
    "                                        ['dropout', 0.25],\n",
    "                                        ['conv', 32, 3],\n",
    "                                        ['maxpool', 2],\n",
    "                                        ['gblAvgPool'],\n",
    "                                        ['dense', 256],\n",
    "                                        ['dense', 128],\n",
    "                                        ['dropout', 0.5],\n",
    "                                        ['dense', 64]],\n",
    "                     'epochs': 10\n",
    "                    },\n",
    "          'model1_2': {'layers_list' : [['input', 16, 3],\n",
    "                                        ['conv', 32, 3],\n",
    "                                        ['maxpool', 2],\n",
    "                                        ['dropout', 0.25],\n",
    "                                        ['conv', 16, 3],\n",
    "                                        ['maxpool', 2],\n",
    "                                        ['gblAvgPool'],\n",
    "                                        ['dense', 128],\n",
    "                                        ['dense', 64],\n",
    "                                        ['dropout', 0.5],\n",
    "                                        ['dense', 32]],\n",
    "                     'epochs': 10\n",
    "                    },\n",
    "          'model1_3': {'layers_list' : [['input', 64, 3],\n",
    "                                        ['conv', 128, 3],\n",
    "                                        ['maxpool', 2],\n",
    "                                        ['dropout', 0.25],\n",
    "                                        ['conv', 64, 3],\n",
    "                                        ['maxpool', 2],\n",
    "                                        ['gblAvgPool'],\n",
    "                                        ['dense', 512],\n",
    "                                        ['dense', 256],\n",
    "                                        ['dropout', 0.5],\n",
    "                                        ['dense', 128]],\n",
    "                     'epochs': 10\n",
    "                    }\n",
    "                    }"
   ]
  },
  {
   "cell_type": "code",
   "execution_count": null,
   "metadata": {},
   "outputs": [],
   "source": [
    "on = False\n",
    "\n",
    "if on:\n",
    "    run_models(models1)"
   ]
  },
  {
   "cell_type": "markdown",
   "metadata": {},
   "source": [
    "**Round 2**\n",
    "\n",
    "For the second round, the size of the kernels in each layer will be varied.\n",
    "    - Model2_1: same as initial model\n",
    "    - Model2_2: kernel size changed to 5\n",
    "    - Model2_3: kernel size changed to 7"
   ]
  },
  {
   "cell_type": "code",
   "execution_count": 45,
   "metadata": {},
   "outputs": [],
   "source": [
    "models2 = {'model2_1': {'layers_list' : [['input', 32, 3],\n",
    "                                        ['conv', 64, 3],\n",
    "                                        ['maxpool', 2],\n",
    "                                        ['dropout', 0.25],\n",
    "                                        ['conv', 32, 3],\n",
    "                                        ['maxpool', 2],\n",
    "                                        ['gblAvgPool'],\n",
    "                                        ['dense', 256],\n",
    "                                        ['dense', 128],\n",
    "                                        ['dropout', 0.5],\n",
    "                                        ['dense', 64]],\n",
    "                     'epochs': 10\n",
    "                    },\n",
    "          'model2_2': {'layers_list' : [['input', 32, 5],\n",
    "                                        ['conv', 64, 5],\n",
    "                                        ['maxpool', 2],\n",
    "                                        ['dropout', 0.25],\n",
    "                                        ['conv', 32, 5],\n",
    "                                        ['maxpool', 2],\n",
    "                                        ['gblAvgPool'],\n",
    "                                        ['dense', 256],\n",
    "                                        ['dense', 128],\n",
    "                                        ['dropout', 0.5],\n",
    "                                        ['dense', 64]],\n",
    "                     'epochs': 10\n",
    "                    },\n",
    "          'model2_3': {'layers_list' : [['input', 32, 7],\n",
    "                                        ['conv', 64, 7],\n",
    "                                        ['maxpool', 2],\n",
    "                                        ['dropout', 0.25],\n",
    "                                        ['conv', 32, 7],\n",
    "                                        ['maxpool', 2],\n",
    "                                        ['gblAvgPool'],\n",
    "                                        ['dense', 256],\n",
    "                                        ['dense', 128],\n",
    "                                        ['dropout', 0.5],\n",
    "                                        ['dense', 64]],\n",
    "                     'epochs': 10\n",
    "                    }\n",
    "                    }"
   ]
  },
  {
   "cell_type": "code",
   "execution_count": 54,
   "metadata": {},
   "outputs": [],
   "source": [
    "on = False\n",
    "\n",
    "if on:\n",
    "    run_models(models2)"
   ]
  },
  {
   "cell_type": "markdown",
   "metadata": {},
   "source": [
    "**Round 3**\n",
    "\n",
    "For the final round, the number of layers will be varied.\n",
    "    - Model3_1: same as initial model\n",
    "    - Model3_2: removed one conv layer and one dense layer\n",
    "    - Model3_3: added one conv layer and one dense layer"
   ]
  },
  {
   "cell_type": "code",
   "execution_count": 45,
   "metadata": {},
   "outputs": [],
   "source": [
    "models3 = {'model3_1': {'layers_list' : [['input', 32, 3],\n",
    "                                        ['conv', 64, 3],\n",
    "                                        ['maxpool', 2],\n",
    "                                        ['dropout', 0.25],\n",
    "                                        ['conv', 32, 3],\n",
    "                                        ['maxpool', 2],\n",
    "                                        ['gblAvgPool'],\n",
    "                                        ['dense', 256],\n",
    "                                        ['dense', 128],\n",
    "                                        ['dropout', 0.5],\n",
    "                                        ['dense', 64]],\n",
    "                     'epochs': 10\n",
    "                    },\n",
    "          'model3_2': {'layers_list' : [['input', 32, 3],\n",
    "                                        ['maxpool', 2],\n",
    "                                        ['dropout', 0.25],\n",
    "                                        ['conv', 32, 3],\n",
    "                                        ['maxpool', 2],\n",
    "                                        ['gblAvgPool'],\n",
    "                                        ['dense', 256],\n",
    "                                        ['dropout', 0.5],\n",
    "                                        ['dense', 128]],\n",
    "                     'epochs': 10\n",
    "                    },\n",
    "          'model3_3': {'layers_list' : [['input', 32, 3],\n",
    "                                        ['conv', 64, 3],\n",
    "                                        ['maxpool', 2],\n",
    "                                        ['dropout', 0.25],\n",
    "                                        ['conv', 32, 3],\n",
    "                                        ['conv', 32, 3],\n",
    "                                        ['maxpool', 2],\n",
    "                                        ['gblAvgPool'],\n",
    "                                        ['dense', 256],\n",
    "                                        ['dense', 128],\n",
    "                                        ['dropout', 0.5],\n",
    "                                        ['dense', 64],\n",
    "                                        ['dense', 32]],\n",
    "                     'epochs': 10\n",
    "                    }\n",
    "                    }"
   ]
  },
  {
   "cell_type": "code",
   "execution_count": 48,
   "metadata": {},
   "outputs": [],
   "source": [
    "on = False\n",
    "\n",
    "if on:\n",
    "    run_models(models3)"
   ]
  },
  {
   "cell_type": "markdown",
   "metadata": {},
   "source": [
    "### Model Evaluation and Selection"
   ]
  },
  {
   "cell_type": "code",
   "execution_count": 44,
   "metadata": {
    "scrolled": false
   },
   "outputs": [
    {
     "data": {
      "text/plain": [
       "Reusing TensorBoard on port 6006 (pid 13316), started 0:01:34 ago. (Use '!kill 13316' to kill it.)"
      ]
     },
     "metadata": {},
     "output_type": "display_data"
    },
    {
     "data": {
      "text/html": [
       "\n",
       "      <iframe id=\"tensorboard-frame-e693b8a284703fb3\" width=\"100%\" height=\"800\" frameborder=\"0\">\n",
       "      </iframe>\n",
       "      <script>\n",
       "        (function() {\n",
       "          const frame = document.getElementById(\"tensorboard-frame-e693b8a284703fb3\");\n",
       "          const url = new URL(\"/\", window.location);\n",
       "          url.port = 6006;\n",
       "          frame.src = url;\n",
       "        })();\n",
       "      </script>\n",
       "  "
      ],
      "text/plain": [
       "<IPython.core.display.HTML object>"
      ]
     },
     "metadata": {},
     "output_type": "display_data"
    }
   ],
   "source": [
    "%tensorboard --logdir logs/fit --host localhost"
   ]
  },
  {
   "cell_type": "code",
   "execution_count": 121,
   "metadata": {},
   "outputs": [],
   "source": [
    "df_result_save = pd.read_csv('results.csv')\n",
    "\n",
    "df_result_save.sort_values('model_name',inplace=True)"
   ]
  },
  {
   "cell_type": "code",
   "execution_count": 122,
   "metadata": {},
   "outputs": [],
   "source": [
    "def cal_metrics(df):\n",
    "    df['accuracy'] = round((df['true_positive'] + df['true_negative'])/(df['true_positive'] + df['true_negative']+df['false_positive'] + df['false_negative']),2)\n",
    "    df['sensitivity'] = round(df['true_positive']/(df['true_positive'] + df['false_negative']),2)\n",
    "    df['specificity '] = round(df['true_negative']/(df['true_negative'] + df['false_positive']),2)"
   ]
  },
  {
   "cell_type": "code",
   "execution_count": 123,
   "metadata": {},
   "outputs": [
    {
     "data": {
      "text/html": [
       "<div>\n",
       "<style scoped>\n",
       "    .dataframe tbody tr th:only-of-type {\n",
       "        vertical-align: middle;\n",
       "    }\n",
       "\n",
       "    .dataframe tbody tr th {\n",
       "        vertical-align: top;\n",
       "    }\n",
       "\n",
       "    .dataframe thead th {\n",
       "        text-align: right;\n",
       "    }\n",
       "</style>\n",
       "<table border=\"1\" class=\"dataframe\">\n",
       "  <thead>\n",
       "    <tr style=\"text-align: right;\">\n",
       "      <th></th>\n",
       "      <th>model_name</th>\n",
       "      <th>true_negative</th>\n",
       "      <th>false_positive</th>\n",
       "      <th>false_negative</th>\n",
       "      <th>true_positive</th>\n",
       "      <th>accuracy</th>\n",
       "      <th>sensitivity</th>\n",
       "      <th>specificity</th>\n",
       "    </tr>\n",
       "  </thead>\n",
       "  <tbody>\n",
       "    <tr>\n",
       "      <th>0</th>\n",
       "      <td>model1_1</td>\n",
       "      <td>1027</td>\n",
       "      <td>231</td>\n",
       "      <td>337</td>\n",
       "      <td>955</td>\n",
       "      <td>0.78</td>\n",
       "      <td>0.74</td>\n",
       "      <td>0.82</td>\n",
       "    </tr>\n",
       "    <tr>\n",
       "      <th>1</th>\n",
       "      <td>model1_2</td>\n",
       "      <td>866</td>\n",
       "      <td>392</td>\n",
       "      <td>74</td>\n",
       "      <td>1218</td>\n",
       "      <td>0.82</td>\n",
       "      <td>0.94</td>\n",
       "      <td>0.69</td>\n",
       "    </tr>\n",
       "    <tr>\n",
       "      <th>2</th>\n",
       "      <td>model1_3</td>\n",
       "      <td>947</td>\n",
       "      <td>311</td>\n",
       "      <td>105</td>\n",
       "      <td>1187</td>\n",
       "      <td>0.84</td>\n",
       "      <td>0.92</td>\n",
       "      <td>0.75</td>\n",
       "    </tr>\n",
       "    <tr>\n",
       "      <th>3</th>\n",
       "      <td>model2_1</td>\n",
       "      <td>896</td>\n",
       "      <td>395</td>\n",
       "      <td>63</td>\n",
       "      <td>1208</td>\n",
       "      <td>0.82</td>\n",
       "      <td>0.95</td>\n",
       "      <td>0.69</td>\n",
       "    </tr>\n",
       "    <tr>\n",
       "      <th>4</th>\n",
       "      <td>model2_2</td>\n",
       "      <td>853</td>\n",
       "      <td>438</td>\n",
       "      <td>32</td>\n",
       "      <td>1239</td>\n",
       "      <td>0.82</td>\n",
       "      <td>0.97</td>\n",
       "      <td>0.66</td>\n",
       "    </tr>\n",
       "    <tr>\n",
       "      <th>8</th>\n",
       "      <td>model2_3</td>\n",
       "      <td>917</td>\n",
       "      <td>404</td>\n",
       "      <td>50</td>\n",
       "      <td>1206</td>\n",
       "      <td>0.82</td>\n",
       "      <td>0.96</td>\n",
       "      <td>0.69</td>\n",
       "    </tr>\n",
       "    <tr>\n",
       "      <th>5</th>\n",
       "      <td>model3_1</td>\n",
       "      <td>920</td>\n",
       "      <td>321</td>\n",
       "      <td>135</td>\n",
       "      <td>1178</td>\n",
       "      <td>0.82</td>\n",
       "      <td>0.90</td>\n",
       "      <td>0.74</td>\n",
       "    </tr>\n",
       "    <tr>\n",
       "      <th>6</th>\n",
       "      <td>model3_2</td>\n",
       "      <td>941</td>\n",
       "      <td>300</td>\n",
       "      <td>173</td>\n",
       "      <td>1140</td>\n",
       "      <td>0.81</td>\n",
       "      <td>0.87</td>\n",
       "      <td>0.76</td>\n",
       "    </tr>\n",
       "    <tr>\n",
       "      <th>7</th>\n",
       "      <td>model3_3</td>\n",
       "      <td>1241</td>\n",
       "      <td>0</td>\n",
       "      <td>1313</td>\n",
       "      <td>0</td>\n",
       "      <td>0.49</td>\n",
       "      <td>0.00</td>\n",
       "      <td>1.00</td>\n",
       "    </tr>\n",
       "  </tbody>\n",
       "</table>\n",
       "</div>"
      ],
      "text/plain": [
       "  model_name  true_negative  false_positive  false_negative  true_positive  \\\n",
       "0   model1_1           1027             231             337            955   \n",
       "1   model1_2            866             392              74           1218   \n",
       "2   model1_3            947             311             105           1187   \n",
       "3   model2_1            896             395              63           1208   \n",
       "4   model2_2            853             438              32           1239   \n",
       "8   model2_3            917             404              50           1206   \n",
       "5   model3_1            920             321             135           1178   \n",
       "6   model3_2            941             300             173           1140   \n",
       "7   model3_3           1241               0            1313              0   \n",
       "\n",
       "   accuracy  sensitivity  specificity   \n",
       "0      0.78         0.74          0.82  \n",
       "1      0.82         0.94          0.69  \n",
       "2      0.84         0.92          0.75  \n",
       "3      0.82         0.95          0.69  \n",
       "4      0.82         0.97          0.66  \n",
       "8      0.82         0.96          0.69  \n",
       "5      0.82         0.90          0.74  \n",
       "6      0.81         0.87          0.76  \n",
       "7      0.49         0.00          1.00  "
      ]
     },
     "execution_count": 123,
     "metadata": {},
     "output_type": "execute_result"
    }
   ],
   "source": [
    "cal_metrics(df_result_save)\n",
    "df_result_save"
   ]
  },
  {
   "cell_type": "markdown",
   "metadata": {},
   "source": [
    "**Evaluation**\n",
    "\n",
    "Based on the results of the three rounds of testing, it is observed from round 1 that increasing the number of filters aid in improving accuracy. The results from round two indicated that increasing kernel size to 5 helps to reduce the number of false negatives significantly, hence enhancing its sensitivity score. Further increment to size 7 does not show even better results, however.\n"
   ]
  },
  {
   "cell_type": "markdown",
   "metadata": {},
   "source": [
    "### Selected Model"
   ]
  },
  {
   "cell_type": "markdown",
   "metadata": {},
   "source": [
    "![Selected model](./assets/selected_model.png)"
   ]
  },
  {
   "cell_type": "markdown",
   "metadata": {},
   "source": [
    "**Comment**\n",
    "\n",
    "From the evaluation results, the selected model will have double number of filters in each layer and kernel size increased to 5."
   ]
  },
  {
   "cell_type": "code",
   "execution_count": 55,
   "metadata": {},
   "outputs": [],
   "source": [
    "selected_model = {'model_selected': {'layers_list' : [['input', 64, 5],\n",
    "                                                      ['conv', 128, 5],\n",
    "                                                      ['maxpool', 2],\n",
    "                                                      ['dropout', 0.25],\n",
    "                                                      ['conv', 64, 5],\n",
    "                                                      ['maxpool', 2],\n",
    "                                                      ['gblAvgPool'],\n",
    "                                                      ['dense', 512],\n",
    "                                                      ['dense', 256],\n",
    "                                                      ['dropout', 0.5],\n",
    "                                                      ['dense', 128]],\n",
    "                                     'epochs': 10\n",
    "                                    }}"
   ]
  },
  {
   "cell_type": "code",
   "execution_count": 62,
   "metadata": {},
   "outputs": [],
   "source": [
    "selected_model_name = list(selected_model.keys())[0]"
   ]
  },
  {
   "cell_type": "code",
   "execution_count": 63,
   "metadata": {},
   "outputs": [],
   "source": [
    "final_model = create_model(selected_model_name, selected_model[selected_model_name]['layers_list'])"
   ]
  },
  {
   "cell_type": "code",
   "execution_count": 64,
   "metadata": {},
   "outputs": [
    {
     "name": "stdout",
     "output_type": "stream",
     "text": [
      "Model: \"model_selected\"\n",
      "_________________________________________________________________\n",
      "Layer (type)                 Output Shape              Param #   \n",
      "=================================================================\n",
      "conv2d (Conv2D)              (None, 220, 276, 64)      1664      \n",
      "_________________________________________________________________\n",
      "conv2d_1 (Conv2D)            (None, 216, 272, 128)     204928    \n",
      "_________________________________________________________________\n",
      "max_pooling2d (MaxPooling2D) (None, 108, 136, 128)     0         \n",
      "_________________________________________________________________\n",
      "dropout (Dropout)            (None, 108, 136, 128)     0         \n",
      "_________________________________________________________________\n",
      "conv2d_2 (Conv2D)            (None, 104, 132, 64)      204864    \n",
      "_________________________________________________________________\n",
      "max_pooling2d_1 (MaxPooling2 (None, 52, 66, 64)        0         \n",
      "_________________________________________________________________\n",
      "global_average_pooling2d (Gl (None, 64)                0         \n",
      "_________________________________________________________________\n",
      "dense (Dense)                (None, 512)               33280     \n",
      "_________________________________________________________________\n",
      "dense_1 (Dense)              (None, 256)               131328    \n",
      "_________________________________________________________________\n",
      "dropout_1 (Dropout)          (None, 256)               0         \n",
      "_________________________________________________________________\n",
      "dense_2 (Dense)              (None, 128)               32896     \n",
      "_________________________________________________________________\n",
      "dense_3 (Dense)              (None, 1)                 129       \n",
      "=================================================================\n",
      "Total params: 609,089\n",
      "Trainable params: 609,089\n",
      "Non-trainable params: 0\n",
      "_________________________________________________________________\n"
     ]
    }
   ],
   "source": [
    "final_model.summary()"
   ]
  },
  {
   "cell_type": "code",
   "execution_count": 67,
   "metadata": {},
   "outputs": [
    {
     "name": "stdout",
     "output_type": "stream",
     "text": [
      "Epoch 1/10\n",
      "309/309 [==============================] - ETA: 0s - loss: 0.6937 - accuracy: 0.4967\n",
      "Epoch 00001: val_loss improved from inf to 0.69139, saving model to ./checkpoints/model_selected_01_0.59.hdf5\n",
      "309/309 [==============================] - 208s 672ms/step - loss: 0.6937 - accuracy: 0.4967 - val_loss: 0.6914 - val_accuracy: 0.5933\n",
      "Epoch 2/10\n",
      "309/309 [==============================] - ETA: 0s - loss: 0.6804 - accuracy: 0.5714\n",
      "Epoch 00002: val_loss improved from 0.69139 to 0.65902, saving model to ./checkpoints/model_selected_02_0.63.hdf5\n",
      "309/309 [==============================] - 206s 668ms/step - loss: 0.6804 - accuracy: 0.5714 - val_loss: 0.6590 - val_accuracy: 0.6263\n",
      "Epoch 3/10\n",
      "309/309 [==============================] - ETA: 0s - loss: 0.5918 - accuracy: 0.6847\n",
      "Epoch 00003: val_loss improved from 0.65902 to 0.50046, saving model to ./checkpoints/model_selected_03_0.76.hdf5\n",
      "309/309 [==============================] - 206s 668ms/step - loss: 0.5918 - accuracy: 0.6847 - val_loss: 0.5005 - val_accuracy: 0.7582\n",
      "Epoch 4/10\n",
      "309/309 [==============================] - ETA: 0s - loss: 0.5073 - accuracy: 0.7508\n",
      "Epoch 00004: val_loss improved from 0.50046 to 0.47770, saving model to ./checkpoints/model_selected_04_0.77.hdf5\n",
      "309/309 [==============================] - 209s 676ms/step - loss: 0.5073 - accuracy: 0.7508 - val_loss: 0.4777 - val_accuracy: 0.7691\n",
      "Epoch 5/10\n",
      "309/309 [==============================] - ETA: 0s - loss: 0.4662 - accuracy: 0.7832\n",
      "Epoch 00005: val_loss improved from 0.47770 to 0.44685, saving model to ./checkpoints/model_selected_05_0.79.hdf5\n",
      "309/309 [==============================] - 207s 669ms/step - loss: 0.4662 - accuracy: 0.7832 - val_loss: 0.4469 - val_accuracy: 0.7905\n",
      "Epoch 6/10\n",
      "309/309 [==============================] - ETA: 0s - loss: 0.4343 - accuracy: 0.8036\n",
      "Epoch 00006: val_loss improved from 0.44685 to 0.41512, saving model to ./checkpoints/model_selected_06_0.82.hdf5\n",
      "309/309 [==============================] - 207s 669ms/step - loss: 0.4343 - accuracy: 0.8036 - val_loss: 0.4151 - val_accuracy: 0.8180\n",
      "Epoch 7/10\n",
      "309/309 [==============================] - ETA: 0s - loss: 0.4217 - accuracy: 0.8119\n",
      "Epoch 00007: val_loss improved from 0.41512 to 0.41479, saving model to ./checkpoints/model_selected_07_0.81.hdf5\n",
      "309/309 [==============================] - 207s 671ms/step - loss: 0.4217 - accuracy: 0.8119 - val_loss: 0.4148 - val_accuracy: 0.8114\n",
      "Epoch 8/10\n",
      "309/309 [==============================] - ETA: 0s - loss: 0.4133 - accuracy: 0.8163\n",
      "Epoch 00008: val_loss did not improve from 0.41479\n",
      "309/309 [==============================] - 207s 670ms/step - loss: 0.4133 - accuracy: 0.8163 - val_loss: 0.5409 - val_accuracy: 0.7361\n",
      "Epoch 9/10\n",
      "309/309 [==============================] - ETA: 0s - loss: 0.4041 - accuracy: 0.8210\n",
      "Epoch 00009: val_loss improved from 0.41479 to 0.38815, saving model to ./checkpoints/model_selected_09_0.83.hdf5\n",
      "309/309 [==============================] - 207s 671ms/step - loss: 0.4041 - accuracy: 0.8210 - val_loss: 0.3881 - val_accuracy: 0.8312\n",
      "Epoch 00009: early stopping\n"
     ]
    }
   ],
   "source": [
    "# Define callbacks\n",
    "checkpoint = ModelCheckpoint(\"./checkpoints/{0}_{{epoch:02d}}_{{val_accuracy:.2f}}.hdf5\".format(selected_model_name),\n",
    "                             verbose=1, \n",
    "                             save_best_only=True, \n",
    "                             mode='auto')\n",
    "\n",
    "early_stop = EarlyStopping(monitor='val_loss', min_delta=0.03, patience=3, mode='auto',verbose=1)\n",
    "\n",
    "log_dir = \"logs/fit/\" + selected_model_name + \"_\" + datetime.datetime.now().strftime(\"%Y%m%d-%H%M%S\")\n",
    "tensorboard_callback = tf.keras.callbacks.TensorBoard(log_dir=log_dir, histogram_freq=1)\n",
    "\n",
    "history = final_model.fit(x= X_train,\n",
    "                          y= y_train,\n",
    "                          batch_size = 32,\n",
    "                          validation_data= (X_test, y_test),\n",
    "                          epochs=selected_model[selected_model_name]['epochs'],\n",
    "                          callbacks=[checkpoint, tensorboard_callback, early_stop],\n",
    "                          verbose=1)"
   ]
  },
  {
   "cell_type": "code",
   "execution_count": 124,
   "metadata": {},
   "outputs": [
    {
     "data": {
      "text/html": [
       "<div>\n",
       "<style scoped>\n",
       "    .dataframe tbody tr th:only-of-type {\n",
       "        vertical-align: middle;\n",
       "    }\n",
       "\n",
       "    .dataframe tbody tr th {\n",
       "        vertical-align: top;\n",
       "    }\n",
       "\n",
       "    .dataframe thead th {\n",
       "        text-align: right;\n",
       "    }\n",
       "</style>\n",
       "<table border=\"1\" class=\"dataframe\">\n",
       "  <thead>\n",
       "    <tr style=\"text-align: right;\">\n",
       "      <th></th>\n",
       "      <th>model_name</th>\n",
       "      <th>true_negative</th>\n",
       "      <th>false_positive</th>\n",
       "      <th>false_negative</th>\n",
       "      <th>true_positive</th>\n",
       "      <th>accuracy</th>\n",
       "      <th>sensitivity</th>\n",
       "      <th>specificity</th>\n",
       "    </tr>\n",
       "  </thead>\n",
       "  <tbody>\n",
       "    <tr>\n",
       "      <th>0</th>\n",
       "      <td>model1_1</td>\n",
       "      <td>1027</td>\n",
       "      <td>231</td>\n",
       "      <td>337</td>\n",
       "      <td>955</td>\n",
       "      <td>0.78</td>\n",
       "      <td>0.74</td>\n",
       "      <td>0.82</td>\n",
       "    </tr>\n",
       "    <tr>\n",
       "      <th>1</th>\n",
       "      <td>model1_2</td>\n",
       "      <td>866</td>\n",
       "      <td>392</td>\n",
       "      <td>74</td>\n",
       "      <td>1218</td>\n",
       "      <td>0.82</td>\n",
       "      <td>0.94</td>\n",
       "      <td>0.69</td>\n",
       "    </tr>\n",
       "    <tr>\n",
       "      <th>2</th>\n",
       "      <td>model1_3</td>\n",
       "      <td>947</td>\n",
       "      <td>311</td>\n",
       "      <td>105</td>\n",
       "      <td>1187</td>\n",
       "      <td>0.84</td>\n",
       "      <td>0.92</td>\n",
       "      <td>0.75</td>\n",
       "    </tr>\n",
       "    <tr>\n",
       "      <th>3</th>\n",
       "      <td>model2_1</td>\n",
       "      <td>896</td>\n",
       "      <td>395</td>\n",
       "      <td>63</td>\n",
       "      <td>1208</td>\n",
       "      <td>0.82</td>\n",
       "      <td>0.95</td>\n",
       "      <td>0.69</td>\n",
       "    </tr>\n",
       "    <tr>\n",
       "      <th>4</th>\n",
       "      <td>model2_2</td>\n",
       "      <td>853</td>\n",
       "      <td>438</td>\n",
       "      <td>32</td>\n",
       "      <td>1239</td>\n",
       "      <td>0.82</td>\n",
       "      <td>0.97</td>\n",
       "      <td>0.66</td>\n",
       "    </tr>\n",
       "    <tr>\n",
       "      <th>8</th>\n",
       "      <td>model2_3</td>\n",
       "      <td>917</td>\n",
       "      <td>404</td>\n",
       "      <td>50</td>\n",
       "      <td>1206</td>\n",
       "      <td>0.82</td>\n",
       "      <td>0.96</td>\n",
       "      <td>0.69</td>\n",
       "    </tr>\n",
       "    <tr>\n",
       "      <th>5</th>\n",
       "      <td>model3_1</td>\n",
       "      <td>920</td>\n",
       "      <td>321</td>\n",
       "      <td>135</td>\n",
       "      <td>1178</td>\n",
       "      <td>0.82</td>\n",
       "      <td>0.90</td>\n",
       "      <td>0.74</td>\n",
       "    </tr>\n",
       "    <tr>\n",
       "      <th>6</th>\n",
       "      <td>model3_2</td>\n",
       "      <td>941</td>\n",
       "      <td>300</td>\n",
       "      <td>173</td>\n",
       "      <td>1140</td>\n",
       "      <td>0.81</td>\n",
       "      <td>0.87</td>\n",
       "      <td>0.76</td>\n",
       "    </tr>\n",
       "    <tr>\n",
       "      <th>7</th>\n",
       "      <td>model3_3</td>\n",
       "      <td>1241</td>\n",
       "      <td>0</td>\n",
       "      <td>1313</td>\n",
       "      <td>0</td>\n",
       "      <td>0.49</td>\n",
       "      <td>0.00</td>\n",
       "      <td>1.00</td>\n",
       "    </tr>\n",
       "    <tr>\n",
       "      <th>9</th>\n",
       "      <td>model_selected</td>\n",
       "      <td>947</td>\n",
       "      <td>374</td>\n",
       "      <td>61</td>\n",
       "      <td>1195</td>\n",
       "      <td>0.83</td>\n",
       "      <td>0.95</td>\n",
       "      <td>0.72</td>\n",
       "    </tr>\n",
       "  </tbody>\n",
       "</table>\n",
       "</div>"
      ],
      "text/plain": [
       "       model_name  true_negative  false_positive  false_negative  \\\n",
       "0        model1_1           1027             231             337   \n",
       "1        model1_2            866             392              74   \n",
       "2        model1_3            947             311             105   \n",
       "3        model2_1            896             395              63   \n",
       "4        model2_2            853             438              32   \n",
       "8        model2_3            917             404              50   \n",
       "5        model3_1            920             321             135   \n",
       "6        model3_2            941             300             173   \n",
       "7        model3_3           1241               0            1313   \n",
       "9  model_selected            947             374              61   \n",
       "\n",
       "   true_positive  accuracy  sensitivity  specificity   \n",
       "0            955      0.78         0.74          0.82  \n",
       "1           1218      0.82         0.94          0.69  \n",
       "2           1187      0.84         0.92          0.75  \n",
       "3           1208      0.82         0.95          0.69  \n",
       "4           1239      0.82         0.97          0.66  \n",
       "8           1206      0.82         0.96          0.69  \n",
       "5           1178      0.82         0.90          0.74  \n",
       "6           1140      0.81         0.87          0.76  \n",
       "7              0      0.49         0.00          1.00  \n",
       "9           1195      0.83         0.95          0.72  "
      ]
     },
     "execution_count": 124,
     "metadata": {},
     "output_type": "execute_result"
    }
   ],
   "source": [
    "preds = (final_model.predict(X_test) > 0.5).astype('int32')\n",
    "\n",
    "tn, fp, fn, tp = confusion_matrix(y_test,preds).reshape(-1)\n",
    "\n",
    "df_result_save.loc[len(df_result_save)] = [selected_model_name, \n",
    "                                           tn, \n",
    "                                           fp, \n",
    "                                           fn, \n",
    "                                           tp, \n",
    "                                           round((tp+tn)/(tn+fp+fn+tp),2),\n",
    "                                           round(tp/(tp+fn),2),\n",
    "                                           round(tn/(tn+fp),2)]\n",
    "df_result_save"
   ]
  },
  {
   "cell_type": "markdown",
   "metadata": {},
   "source": [
    "**Comment**\n",
    "\n",
    "The selected model has performed better than the previous models, gaining the improvement in accuracy from the doubling of the number of filters, whilst having improved sensitivity score from increasing kernel size to 5."
   ]
  },
  {
   "cell_type": "code",
   "execution_count": 105,
   "metadata": {},
   "outputs": [],
   "source": [
    "df_final = pd.DataFrame({'y_true':list(y_test),\n",
    "                         'pred_probs': list(final_model.predict(X_test))})"
   ]
  },
  {
   "cell_type": "code",
   "execution_count": 110,
   "metadata": {},
   "outputs": [
    {
     "data": {
      "image/png": "[encoded data removed]",
      "text/plain": [
       "<Figure size 720x504 with 1 Axes>"
      ]
     },
     "metadata": {
      "needs_background": "light"
     },
     "output_type": "display_data"
    }
   ],
   "source": [
    "# Create figure.\n",
    "plt.figure(figsize = (10,7))\n",
    "\n",
    "# Create threshold values. (Dashed red line in image.)\n",
    "thresholds = np.linspace(0, 1, 200)\n",
    "\n",
    "# Define function to calculate sensitivity. (True positive rate.)\n",
    "def TPR(df, true_col, pred_prob_col, threshold):\n",
    "    true_positive = df[(df[true_col] == 1) & (df[pred_prob_col] >= threshold)].shape[0]\n",
    "    false_negative = df[(df[true_col] == 1) & (df[pred_prob_col] < threshold)].shape[0]\n",
    "    return true_positive / (true_positive + false_negative)\n",
    "\n",
    "\n",
    "# Define function to calculate 1 - specificity. (False positive rate.)\n",
    "def FPR(df, true_col, pred_prob_col, threshold):\n",
    "    true_negative = df[(df[true_col] == 0) & (df[pred_prob_col] <= threshold)].shape[0]\n",
    "    false_positive = df[(df[true_col] == 0) & (df[pred_prob_col] > threshold)].shape[0]\n",
    "    return 1 - (true_negative / (true_negative + false_positive))\n",
    "\n",
    "# Calculate sensitivity & 1-specificity for each threshold between 0 and 1.\n",
    "tpr_values = [TPR(df_final, 'y_true', 'pred_probs', prob) for prob in thresholds]\n",
    "fpr_values = [FPR(df_final, 'y_true', 'pred_probs', prob) for prob in thresholds]\n",
    "\n",
    "# Plot ROC curve.\n",
    "plt.plot(fpr_values, # False Positive Rate on X-axis\n",
    "         tpr_values, # True Positive Rate on Y-axis\n",
    "         label='ROC Curve')\n",
    "\n",
    "# Plot baseline. (Perfect overlap between the two populations.)\n",
    "plt.plot(np.linspace(0, 1, 200),\n",
    "         np.linspace(0, 1, 200),\n",
    "         label='baseline',\n",
    "         linestyle='--')\n",
    "\n",
    "# Label axes.\n",
    "plt.title(f'ROC Curve with AUC = {round(roc_auc_score(df_final[\"y_true\"],df_final[\"pred_probs\"]),3)}', fontsize=22)\n",
    "\n",
    "plt.ylabel('Sensitivity', fontsize=18)\n",
    "plt.xlabel('1 - Specificity', fontsize=18);"
   ]
  },
  {
   "cell_type": "code",
   "execution_count": 114,
   "metadata": {},
   "outputs": [],
   "source": [
    "final_model.save(f'./models/{selected_model_name}.h5')"
   ]
  },
  {
   "cell_type": "markdown",
   "metadata": {},
   "source": [
    "---"
   ]
  },
  {
   "cell_type": "markdown",
   "metadata": {},
   "source": [
    "## Conclusion and Recommendations"
   ]
  },
  {
   "cell_type": "markdown",
   "metadata": {},
   "source": [
    "In conclusion, the selected model has an accuracy of 0.83, sensitivity of 0.95 and AUC ROC score of 0.87. The objective, as stated out in the problem statement, has been met.\n",
    "\n",
    "During the course of this project, the lack of consistent and quality data was an impediment. However, there are multiple efforts globally to build up databases. As more data is gathered, subsequent refinement can be performed on this model to improve its performance further.\n",
    "\n",
    "Based on some of the literature, the appearance of GGOs is not unique to COVID-19. With more data, a Multi-Class classification utilising the same CNN approach can be developed to order to differentiate between Covid infection and other types of viral/bacterial infection. There is also the possibility of exploring other methodologies such as Transfer Learning or CNNs utilising 3D CT Scan data (i.e. every slice from a .nii file)."
   ]
  },
  {
   "cell_type": "markdown",
   "metadata": {},
   "source": [
    "##  References"
   ]
  },
  {
   "cell_type": "markdown",
   "metadata": {},
   "source": [
    "- Lung Cancer Detection and Classification based on\n",
    "Image Processing and Statistical Learning [Link](https://arxiv.org/pdf/1911.10654.pdf)\n",
    "- GitHub\\COVID-Net Open Source Initiative [Link](https://github.com/lindawangg/COVID-Net)\n",
    "- Automated detection of COVID-19 cases using deep neural networks with X-ray images [Link](https://www.ncbi.nlm.nih.gov/pmc/articles/PMC7187882/)\n",
    "- Classification of COVID-19 patients from chest CT images using multi-objective differential evolution–based convolutional neural networks [Link](https://link.springer.com/article/10.1007/s10096-020-03901-z)\n",
    "- Diagnosing COVID-19 Pneumonia from X-Ray and CT Images using Deep Learning and Transfer Learning Algorithms [Link](https://www.researchgate.net/publication/340374481_Diagnosing_COVID-19_Pneumonia_from_X-Ray_and_CT_Images_using_Deep_Learning_and_Transfer_Learning_Algorithms)"
   ]
  }
 ],
 "metadata": {
  "kernelspec": {
   "display_name": "Python 3",
   "language": "python",
   "name": "python3"
  },
  "language_info": {
   "codemirror_mode": {
    "name": "ipython",
    "version": 3
   },
   "file_extension": ".py",
   "mimetype": "text/x-python",
   "name": "python",
   "nbconvert_exporter": "python",
   "pygments_lexer": "ipython3",
   "version": "3.7.6"
  }
 },
 "nbformat": 4,
 "nbformat_minor": 4
}
